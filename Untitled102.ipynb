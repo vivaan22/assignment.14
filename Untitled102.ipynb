{
 "cells": [
  {
   "cell_type": "code",
   "execution_count": null,
   "id": "16819377",
   "metadata": {},
   "outputs": [],
   "source": [
    "# creating an empty list\n",
    "lst = []\n",
    "  \n",
    "# number of elements as input\n",
    "n = int(input(\"Enter number of elements : \"))\n",
    "  \n",
    "# iterating till the range\n",
    "for i in range(0, n):\n",
    "    ele = int(input())\n",
    "  \n",
    "    lst.append(ele) # adding the element\n",
    "      \n",
    "print(lst)"
   ]
  },
  {
   "cell_type": "code",
   "execution_count": null,
   "id": "8b8cdf44",
   "metadata": {},
   "outputs": [],
   "source": [
    "int i; \n",
    "for(i=0; i<n/2; i++) { \n",
    "printf(\"%d %d\", a[i], a[n-1-i]); \n",
    "} "
   ]
  },
  {
   "cell_type": "code",
   "execution_count": null,
   "id": "e229284b",
   "metadata": {},
   "outputs": [],
   "source": [
    "def calculateSumFor(first,second):\n",
    "    return int(first) + int(second)"
   ]
  },
  {
   "cell_type": "code",
   "execution_count": null,
   "id": "c36ba8fa",
   "metadata": {},
   "outputs": [],
   "source": [
    "def canBeEqual(a, b, n):\n",
    "    # A and B are new a and b\n",
    "    # after we omit the same elements\n",
    "    A =[]\n",
    "    B =[]\n",
    "     \n",
    "    # Take only the characters which are\n",
    "    # different in both the strings\n",
    "    # for every pair of indices\n",
    "    for i in range(n):\n",
    "     \n",
    "        # If the current characters differ\n",
    "        if a[i]!= b[i]:\n",
    "            A.append(a[i])\n",
    "            B.append(b[i])\n",
    "             \n",
    "    # The strings were already equal\n",
    "    if len(A)== len(B)== 0:\n",
    "        return True"
   ]
  }
 ],
 "metadata": {
  "kernelspec": {
   "display_name": "Python 3",
   "language": "python",
   "name": "python3"
  },
  "language_info": {
   "codemirror_mode": {
    "name": "ipython",
    "version": 3
   },
   "file_extension": ".py",
   "mimetype": "text/x-python",
   "name": "python",
   "nbconvert_exporter": "python",
   "pygments_lexer": "ipython3",
   "version": "3.8.8"
  }
 },
 "nbformat": 4,
 "nbformat_minor": 5
}
